{
 "cells": [
  {
   "cell_type": "markdown",
   "metadata": {},
   "source": [
    "# Demo: Solving MNIST with a CNN (Convolutional Neural Network)\n",
    "\n",
    "### MNIST stands for \"Modified National Institute of Standards and Technology [Database]\". It is a collection of 70,000 pictures of handwritten digits intended for use in image classification and machine learning tests. Each picture is 28x28 in resolution and is greyscale, which makes preprocessing significantly easier and drastically reduces the amount of computation needed to train a model on it. It is a total of 52 MBs in size, making it an extremely lightweight dataset in every way. \n",
    "\n",
    "### More information and downloads can be found [here](http://yann.lecun.com/exdb/mnist/). If you want to use MNIST in your own projects, you can also import it from Keras: `from keras.datasets import mnist`"
   ]
  },
  {
   "cell_type": "code",
   "execution_count": 1,
   "metadata": {},
   "outputs": [],
   "source": [
    "import numpy as np\n",
    "import matplotlib.pyplot as plt\n",
    "plt.style.use(\"dark_background\")\n",
    "%matplotlib inline"
   ]
  },
  {
   "cell_type": "code",
   "execution_count": 2,
   "metadata": {},
   "outputs": [],
   "source": [
    "def load_pictures(filepath):\n",
    "    \"\"\"\n",
    "    Reads in a raw binary sequence as a set of 28x28 images. Intended for use with MNIST.\n",
    "    \"\"\"\n",
    "    with open(filepath, \"rb\") as f:\n",
    "        return np.frombuffer(f.read(), np.uint8, offset=16).reshape(-1, 28, 28)\n",
    "    \n",
    "def load_labels(filepath):\n",
    "    \"\"\"\n",
    "    Reads in a raw binary sequence as a set of 8 character long labels. Intended for use with MNIST.\n",
    "    \"\"\"\n",
    "    with open(filepath, \"rb\") as f:\n",
    "        return np.frombuffer(f.read(), np.uint8, offset=8)\n",
    "\n",
    "X_train = load_pictures(\"data/mnist/X_train\")\n",
    "y_train = load_labels(\"data/mnist/y_train\")\n",
    "X_test = load_pictures(\"data/mnist/X_test\")\n",
    "y_test = load_labels(\"data/mnist/y_test\")"
   ]
  },
  {
   "cell_type": "code",
   "execution_count": 3,
   "metadata": {},
   "outputs": [
    {
     "data": {
      "image/png": "[encoded data removed]",
      "text/plain": [
       "<Figure size 432x288 with 1 Axes>"
      ]
     },
     "metadata": {
      "needs_background": "dark"
     },
     "output_type": "display_data"
    }
   ],
   "source": [
    "plt.imshow(X_train[0], cmap=\"gray\");"
   ]
  },
  {
   "cell_type": "code",
   "execution_count": null,
   "metadata": {},
   "outputs": [],
   "source": []
  }
 ],
 "metadata": {
  "kernelspec": {
   "display_name": "Python 3",
   "language": "python",
   "name": "python3"
  },
  "language_info": {
   "codemirror_mode": {
    "name": "ipython",
    "version": 3
   },
   "file_extension": ".py",
   "mimetype": "text/x-python",
   "name": "python",
   "nbconvert_exporter": "python",
   "pygments_lexer": "ipython3",
   "version": "3.7.1"
  }
 },
 "nbformat": 4,
 "nbformat_minor": 2
}
