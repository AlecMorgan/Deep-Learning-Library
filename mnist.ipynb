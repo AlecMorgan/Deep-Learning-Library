{
 "cells": [
  {
   "cell_type": "markdown",
   "metadata": {},
   "source": [
    "# Demo: Solving MNIST with a CNN (Convolutional Neural Network)\n",
    "\n",
    "### MNIST stands for \"Modified National Institute of Standards and Technology [Database]\". It is a collection of 70,000 pictures of handwritten digits intended for use in image classification and machine learning tests. Each picture is 28x28 in resolution and is greyscale, which makes preprocessing significantly easier and drastically reduces the amount of computation needed to train a model on it. It is a total of 52 MBs in size, making it an extremely lightweight dataset in every way. \n",
    "\n",
    "### More information and downloads can be found [here](http://yann.lecun.com/exdb/mnist/). If you want to use MNIST in your own projects, you can also import it from Keras: `from keras.datasets import mnist`"
   ]
  },
  {
   "cell_type": "code",
   "execution_count": 1,
   "metadata": {},
   "outputs": [],
   "source": [
    "import numpy as np\n",
    "import matplotlib.pyplot as plt\n",
    "plt.style.use(\"dark_background\")\n",
    "%matplotlib inline"
   ]
  },
  {
   "cell_type": "code",
   "execution_count": 2,
   "metadata": {},
   "outputs": [],
   "source": [
    "def load_pictures(filepath):\n",
    "    \"\"\"\n",
    "    Reads in a raw binary sequence as a set of 28x28x1 (MNIST) images.\n",
    "    \"\"\"\n",
    "    with open(filepath, \"rb\") as f:\n",
    "        return np.frombuffer(f.read(), np.uint8, offset=16).reshape(-1, 28, 28)\n",
    "    \n",
    "def load_labels(filepath):\n",
    "    \"\"\"\n",
    "    Reads in a raw binary sequence as a set of 8 character long (MNIST) labels.\n",
    "    \"\"\"\n",
    "    with open(filepath, \"rb\") as f:\n",
    "        return np.frombuffer(f.read(), np.uint8, offset=8)\n",
    "\n",
    "X_train = load_pictures(\"data/mnist/X_train\")\n",
    "y_train = load_labels(\"data/mnist/y_train\")\n",
    "X_test = load_pictures(\"data/mnist/X_test\")\n",
    "y_test = load_labels(\"data/mnist/y_test\")"
   ]
  },
  {
   "cell_type": "code",
   "execution_count": 63,
   "metadata": {},
   "outputs": [
    {
     "data": {
      "image/png": "[encoded data removed]",
      "text/plain": [
       "<Figure size 864x576 with 6 Axes>"
      ]
     },
     "metadata": {
      "needs_background": "dark"
     },
     "output_type": "display_data"
    }
   ],
   "source": [
    "nrows, ncols = 2, 3\n",
    "fig, axes = plt.subplots(nrows=nrows, \n",
    "                         ncols=ncols, \n",
    "                         figsize=(4*nrows, 4*ncols))\n",
    "for i in range(nrows):\n",
    "    for j in range(ncols):\n",
    "        index = (i * ncols) + j\n",
    "        img, label = X_train[index], y_train[index]\n",
    "        fig.subplots_adjust(hspace=0.4)\n",
    "        axes[i][j].set_title(label, fontsize=48)\n",
    "        axes[i][j].imshow(img, cmap=\"gray\");"
   ]
  },
  {
   "cell_type": "markdown",
   "metadata": {},
   "source": [
    "# CS231n"
   ]
  },
  {
   "cell_type": "code",
   "execution_count": null,
   "metadata": {},
   "outputs": [],
   "source": [
    "def conv(img, filt, padding, stride=2):\n",
    "    \n",
    "    \n",
    "conv()"
   ]
  },
  {
   "cell_type": "code",
   "execution_count": 31,
   "metadata": {},
   "outputs": [
    {
     "data": {
      "text/plain": [
       "(array([9, 9, 9]), 27)"
      ]
     },
     "execution_count": 31,
     "metadata": {},
     "output_type": "execute_result"
    }
   ],
   "source": [
    "first = np.array([3, 3, 3])\n",
    "second = np.array([3, 3, 3])\n",
    "first * second, first @ second"
   ]
  },
  {
   "cell_type": "code",
   "execution_count": null,
   "metadata": {},
   "outputs": [],
   "source": []
  },
  {
   "cell_type": "code",
   "execution_count": null,
   "metadata": {},
   "outputs": [],
   "source": []
  },
  {
   "cell_type": "code",
   "execution_count": null,
   "metadata": {},
   "outputs": [],
   "source": []
  },
  {
   "cell_type": "markdown",
   "metadata": {},
   "source": [
    "### Convolutional functionality implemented with code from these guides by [Ahmed Gad](https://www.kdnuggets.com/2018/04/building-convolutional-neural-network-numpy-scratch.html) and [Alejandro Escontrela](https://towardsdatascience.com/convolutional-neural-networks-from-the-ground-up-c67bb41454e1). "
   ]
  },
  {
   "cell_type": "code",
   "execution_count": 21,
   "metadata": {},
   "outputs": [
    {
     "data": {
      "text/plain": [
       "(2, 3, 3)"
      ]
     },
     "execution_count": 21,
     "metadata": {},
     "output_type": "execute_result"
    }
   ],
   "source": [
    "# Upper half of filter detects horizontal edges,\n",
    "# lower half of filter detects vertical edges. \n",
    "# l1_filter = np.array([[[-1, 0, 1],   \n",
    "#                        [-1, 0, 1],   \n",
    "#                        [-1, 0, 1]],\n",
    "#                       [[ 1, 1, 1],   \n",
    "#                        [ 0, 0, 0],   \n",
    "#                        [-1,-1,-1]]]) \n",
    "\n",
    "l1_filter = np.zeros((2,3,3))\n",
    "l1_filter[0, :, :] = np.array([[[-1, 0, 1],   \n",
    "                                   [-1, 0, 1],   \n",
    "                                   [-1, 0, 1]]])  \n",
    "l1_filter[1, :, :] = np.array([[[1,   1,  1],   \n",
    "                                   [0,   0,  0],   \n",
    "                                   [-1, -1, -1]]])\n",
    "     \n",
    "\n",
    "l1_filter.shape"
   ]
  },
  {
   "cell_type": "code",
   "execution_count": 22,
   "metadata": {},
   "outputs": [],
   "source": [
    "def conv(img, filt):  \n",
    "    assert filt.shape[1] != filt.shape[2], \"Error: Filter must be a square matrix.\"\n",
    "    assert filt.shape[1 % 2 == 0], \"Error: Filter must have an odd size.\"\n",
    "    \n",
    "    n_f, n_c_f, f, _ = filt.shape # filter dimensions\n",
    "    n_c, in_dim, _ = image.shape # image dimensions\n",
    "    \n",
    "    assert n_c == n_c_f, \"Dimensions of filter must match dimensions of input image\"\n",
    "    \n",
    "    out_dim = int((in_dim - f) / s) + 1 # calculate output dimensions\n",
    "\n",
    "    # An empty feature map to hold the output of convolving the filter(s) with the image.  \n",
    "    feature_maps = np.zeros((n_f, out_dim, out_dim))\n",
    "    \n",
    "    # Convolving the image by the filter(s).  \n",
    "    for filter_num in range(conv_filter.shape[0]):  \n",
    "        print(\"Filter \", filter_num + 1)  \n",
    "        curr_filter = conv_filter[filter_num, :] # getting a filter from the bank.  \n",
    "        \"\"\"  \n",
    "        Checking if there are mutliple channels for the single filter. \n",
    "        If so, then each channel will convolve the image. \n",
    "        The result of all convolutions are summed to return a single feature map. \n",
    "        \"\"\"  \n",
    "        if len(curr_filter.shape) > 2:  \n",
    "            conv_map = conv_(img[:, :, 0], curr_filter[:, :, 0]) # Array holding the sum of all feature maps.  \n",
    "            for ch_num in range(1, curr_filter.shape[-1]): # Convolving each channel with the image and summing the results.  \n",
    "                conv_map = conv_map + conv_(img[:, :, ch_num],   \n",
    "                                  curr_filter[:, :, ch_num])  \n",
    "        else: # There is just a single channel in the filter.  \n",
    "            conv_map = conv_(img, curr_filter)  \n",
    "        feature_maps[:, :, filter_num] = conv_map # Holding feature map with the current filter.\n",
    "    return feature_maps # Returning all feature maps."
   ]
  },
  {
   "cell_type": "code",
   "execution_count": 23,
   "metadata": {},
   "outputs": [
    {
     "ename": "AssertionError",
     "evalue": "Error: Filter must be a square matrix.",
     "output_type": "error",
     "traceback": [
      "\u001b[0;31m---------------------------------------------------------------------------\u001b[0m",
      "\u001b[0;31mAssertionError\u001b[0m                            Traceback (most recent call last)",
      "\u001b[0;32m<ipython-input-23-897fe86c8cce>\u001b[0m in \u001b[0;36m<module>\u001b[0;34m\u001b[0m\n\u001b[0;32m----> 1\u001b[0;31m \u001b[0ml1_feature_map\u001b[0m \u001b[0;34m=\u001b[0m \u001b[0mconv\u001b[0m\u001b[0;34m(\u001b[0m\u001b[0mimg\u001b[0m\u001b[0;34m,\u001b[0m \u001b[0ml1_filter\u001b[0m\u001b[0;34m)\u001b[0m\u001b[0;34m\u001b[0m\u001b[0;34m\u001b[0m\u001b[0m\n\u001b[0m",
      "\u001b[0;32m<ipython-input-22-ddf1ed3fef20>\u001b[0m in \u001b[0;36mconv\u001b[0;34m(img, filt)\u001b[0m\n\u001b[1;32m      1\u001b[0m \u001b[0;32mdef\u001b[0m \u001b[0mconv\u001b[0m\u001b[0;34m(\u001b[0m\u001b[0mimg\u001b[0m\u001b[0;34m,\u001b[0m \u001b[0mfilt\u001b[0m\u001b[0;34m)\u001b[0m\u001b[0;34m:\u001b[0m\u001b[0;34m\u001b[0m\u001b[0;34m\u001b[0m\u001b[0m\n\u001b[0;32m----> 2\u001b[0;31m     \u001b[0;32massert\u001b[0m \u001b[0mfilt\u001b[0m\u001b[0;34m.\u001b[0m\u001b[0mshape\u001b[0m\u001b[0;34m[\u001b[0m\u001b[0;36m1\u001b[0m\u001b[0;34m]\u001b[0m \u001b[0;34m!=\u001b[0m \u001b[0mfilt\u001b[0m\u001b[0;34m.\u001b[0m\u001b[0mshape\u001b[0m\u001b[0;34m[\u001b[0m\u001b[0;36m2\u001b[0m\u001b[0;34m]\u001b[0m\u001b[0;34m,\u001b[0m \u001b[0;34m\"Error: Filter must be a square matrix.\"\u001b[0m\u001b[0;34m\u001b[0m\u001b[0;34m\u001b[0m\u001b[0m\n\u001b[0m\u001b[1;32m      3\u001b[0m     \u001b[0;32massert\u001b[0m \u001b[0mfilt\u001b[0m\u001b[0;34m.\u001b[0m\u001b[0mshape\u001b[0m\u001b[0;34m[\u001b[0m\u001b[0;36m1\u001b[0m \u001b[0;34m%\u001b[0m \u001b[0;36m2\u001b[0m \u001b[0;34m==\u001b[0m \u001b[0;36m0\u001b[0m\u001b[0;34m]\u001b[0m\u001b[0;34m,\u001b[0m \u001b[0;34m\"Error: Filter must have an odd size.\"\u001b[0m\u001b[0;34m\u001b[0m\u001b[0;34m\u001b[0m\u001b[0m\n\u001b[1;32m      4\u001b[0m \u001b[0;34m\u001b[0m\u001b[0m\n\u001b[1;32m      5\u001b[0m     \u001b[0mn_f\u001b[0m\u001b[0;34m,\u001b[0m \u001b[0mn_c_f\u001b[0m\u001b[0;34m,\u001b[0m \u001b[0mf\u001b[0m\u001b[0;34m,\u001b[0m \u001b[0m_\u001b[0m \u001b[0;34m=\u001b[0m \u001b[0mfilt\u001b[0m\u001b[0;34m.\u001b[0m\u001b[0mshape\u001b[0m \u001b[0;31m# filter dimensions\u001b[0m\u001b[0;34m\u001b[0m\u001b[0;34m\u001b[0m\u001b[0m\n",
      "\u001b[0;31mAssertionError\u001b[0m: Error: Filter must be a square matrix."
     ]
    }
   ],
   "source": [
    "l1_feature_map = conv(img, l1_filter)"
   ]
  },
  {
   "cell_type": "code",
   "execution_count": null,
   "metadata": {},
   "outputs": [],
   "source": []
  }
 ],
 "metadata": {
  "kernelspec": {
   "display_name": "Python 3",
   "language": "python",
   "name": "python3"
  },
  "language_info": {
   "codemirror_mode": {
    "name": "ipython",
    "version": 3
   },
   "file_extension": ".py",
   "mimetype": "text/x-python",
   "name": "python",
   "nbconvert_exporter": "python",
   "pygments_lexer": "ipython3",
   "version": "3.7.1"
  }
 },
 "nbformat": 4,
 "nbformat_minor": 2
}
