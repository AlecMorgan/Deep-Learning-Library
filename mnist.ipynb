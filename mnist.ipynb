{
 "cells": [
  {
   "cell_type": "markdown",
   "metadata": {},
   "source": [
    "# Demo: Solving MNIST with a CNN (Convolutional Neural Network)\n",
    "\n",
    "### MNIST stands for \"Modified National Institute of Standards and Technology [Database]\". It is a collection of 70,000 pictures of handwritten digits intended for use in image classification and machine learning tests. Each picture is 28x28 in resolution and is greyscale, which makes preprocessing significantly easier and drastically reduces the amount of computation needed to train a model on it. It is a total of 52 MBs in size, making it an extremely lightweight dataset in every way. \n",
    "\n",
    "### More information and downloads can be found [here](http://yann.lecun.com/exdb/mnist/). If you want to use MNIST in your own projects, you can also import it from Keras: `from keras.datasets import mnist`"
   ]
  },
  {
   "cell_type": "code",
   "execution_count": null,
   "metadata": {},
   "outputs": [],
   "source": []
  }
 ],
 "metadata": {
  "kernelspec": {
   "display_name": "Python 3",
   "language": "python",
   "name": "python3"
  },
  "language_info": {
   "codemirror_mode": {
    "name": "ipython",
    "version": 3
   },
   "file_extension": ".py",
   "mimetype": "text/x-python",
   "name": "python",
   "nbconvert_exporter": "python",
   "pygments_lexer": "ipython3",
   "version": "3.7.1"
  }
 },
 "nbformat": 4,
 "nbformat_minor": 2
}
